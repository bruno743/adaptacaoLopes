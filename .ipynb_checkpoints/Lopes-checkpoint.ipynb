{
 "cells": [
  {
   "cell_type": "markdown",
   "id": "14d2111a",
   "metadata": {},
   "source": [
    "# Aplicação prática do modelo de rotulação de Lopes(2014)"
   ]
  },
  {
   "cell_type": "code",
   "execution_count": null,
   "id": "41804824",
   "metadata": {},
   "outputs": [],
   "source": [
    "import pandas as pd\n",
    "import numpy as np"
   ]
  },
  {
   "cell_type": "markdown",
   "id": "5b169970",
   "metadata": {},
   "source": [
    "## Seleção de parâmetros"
   ]
  },
  {
   "cell_type": "code",
   "execution_count": null,
   "id": "78f9bc91",
   "metadata": {},
   "outputs": [],
   "source": [
    "variacao = 8.5\n",
    "faixa_valores = 3\n",
    "per_trein = 25\n",
    "folds = 10"
   ]
  },
  {
   "cell_type": "code",
   "execution_count": null,
   "id": "e8d8ec71",
   "metadata": {},
   "outputs": [],
   "source": [
    "grupo = \"sementes.csv\""
   ]
  },
  {
   "cell_type": "code",
   "execution_count": null,
   "id": "e4565d02",
   "metadata": {},
   "outputs": [],
   "source": [
    "grupo = \"iris.csv\""
   ]
  },
  {
   "cell_type": "code",
   "execution_count": null,
   "id": "da095519",
   "metadata": {},
   "outputs": [],
   "source": [
    "grupo = \"vidros.csv\""
   ]
  },
  {
   "cell_type": "code",
   "execution_count": null,
   "id": "0c0f48bc",
   "metadata": {},
   "outputs": [],
   "source": [
    "grupo = \"wine.csv\""
   ]
  },
  {
   "cell_type": "code",
   "execution_count": null,
   "id": "bcca9d9f",
   "metadata": {},
   "outputs": [],
   "source": [
    "grupo = \"mnist64.csv\""
   ]
  },
  {
   "cell_type": "code",
   "execution_count": null,
   "id": "09432534",
   "metadata": {},
   "outputs": [],
   "source": [
    "tipo_discretizacao = 'EWD'"
   ]
  },
  {
   "cell_type": "code",
   "execution_count": null,
   "id": "7146452a",
   "metadata": {},
   "outputs": [],
   "source": [
    "tipo_discretizacao = 'EFD'"
   ]
  },
  {
   "cell_type": "code",
   "execution_count": null,
   "id": "fc5c951f",
   "metadata": {},
   "outputs": [],
   "source": [
    "alg_super = 'PMC'"
   ]
  },
  {
   "cell_type": "code",
   "execution_count": null,
   "id": "06117a94",
   "metadata": {},
   "outputs": [],
   "source": [
    "alg_super = 'TREE'"
   ]
  },
  {
   "cell_type": "code",
   "execution_count": null,
   "id": "a4cffb2b",
   "metadata": {},
   "outputs": [],
   "source": [
    "print(f'Parametros: bd={grupo}, disc={tipo_discretizacao}, algoritmo={alg_super}')\n",
    "print(f'variacao={variacao}, faixa={faixa_valores}, % de treino={per_trein}, treinos e testes={folds}')"
   ]
  },
  {
   "cell_type": "markdown",
   "id": "97d66cd5",
   "metadata": {},
   "source": [
    "## Tratando os dados"
   ]
  },
  {
   "cell_type": "code",
   "execution_count": null,
   "id": "19e8bd63",
   "metadata": {},
   "outputs": [],
   "source": [
    "base = pd.read_csv(grupo)"
   ]
  },
  {
   "cell_type": "code",
   "execution_count": null,
   "id": "77d907e0",
   "metadata": {},
   "outputs": [],
   "source": [
    "base.head()"
   ]
  },
  {
   "cell_type": "code",
   "execution_count": null,
   "id": "536cbaed",
   "metadata": {},
   "outputs": [],
   "source": [
    "attr_classe = base.columns[-1]\n",
    "print(f'atributo escolhido: {attr_classe}')\n",
    "\n",
    "frames = []\n",
    "for index, grupo in base.groupby(attr_classe):\n",
    "    frames.append(grupo)\n",
    "print(f'numero de clusters: {len(frames)}')"
   ]
  },
  {
   "cell_type": "code",
   "execution_count": null,
   "id": "866a742e",
   "metadata": {},
   "outputs": [],
   "source": [
    "frames[0].shape"
   ]
  },
  {
   "cell_type": "code",
   "execution_count": null,
   "id": "37832d28",
   "metadata": {},
   "outputs": [],
   "source": [
    "frames[0].head()"
   ]
  },
  {
   "cell_type": "markdown",
   "id": "dea9b9f2",
   "metadata": {},
   "source": [
    "### Discretização"
   ]
  },
  {
   "cell_type": "code",
   "execution_count": null,
   "id": "16a7340e",
   "metadata": {},
   "outputs": [],
   "source": [
    "import discretizacao as dsc\n",
    "\n",
    "discData = dsc.discretizador(base, faixa_valores, tipo_discretizacao, attr_classe)\n",
    "base_discretizada = discData.ddb\n",
    "infor = discData.infor"
   ]
  },
  {
   "cell_type": "code",
   "execution_count": null,
   "id": "c83bd621",
   "metadata": {},
   "outputs": [],
   "source": [
    "print(base_discretizada[:10])"
   ]
  },
  {
   "cell_type": "code",
   "execution_count": null,
   "id": "ffa31c6a",
   "metadata": {},
   "outputs": [],
   "source": [
    "for info in infor:\n",
    "    print(info)"
   ]
  },
  {
   "cell_type": "code",
   "execution_count": null,
   "id": "ef805cb8",
   "metadata": {},
   "outputs": [],
   "source": [
    "frames_disc = []\n",
    "for index, grupo in base_discretizada.groupby(attr_classe):\n",
    "    frames_disc.append(grupo)\n",
    "print(f'numero de clusters: {len(frames_disc)}')"
   ]
  },
  {
   "cell_type": "code",
   "execution_count": null,
   "id": "3e1b89df",
   "metadata": {},
   "outputs": [],
   "source": [
    "frames_disc[0].head()"
   ]
  },
  {
   "cell_type": "markdown",
   "id": "2c2ce9cf",
   "metadata": {},
   "source": [
    "## Predição de atributos (Aprendizagem supervisionada)"
   ]
  },
  {
   "cell_type": "code",
   "execution_count": null,
   "id": "2913bcce",
   "metadata": {},
   "outputs": [],
   "source": [
    "import supervised as sp\n",
    "\n",
    "infor_attrs = sp.aciona_metodo(frames_disc, attr_classe, per_trein, folds, alg_super)\n",
    "\n",
    "for info in infor_attrs:\n",
    "    print(info)"
   ]
  },
  {
   "cell_type": "markdown",
   "id": "f1681229",
   "metadata": {},
   "source": [
    "## Rotulação"
   ]
  },
  {
   "cell_type": "code",
   "execution_count": null,
   "id": "78b24457",
   "metadata": {},
   "outputs": [],
   "source": [
    "import rotulacao as rot\n",
    "\n",
    "rotulos = rot.atrib_rotul(frames_disc, attr_classe, infor_attrs, variacao, infor)\n",
    "\n",
    "print(\"Rotulos\")\n",
    "for rotulo in rotulos:\n",
    "    print(f\"Cluster: {rotulo[0]}\")\n",
    "    print(f\"Pares Atributo-Intervalo: {rotulo[1]}\")\n",
    "    print()"
   ]
  }
 ],
 "metadata": {
  "kernelspec": {
   "display_name": "Python 3 (ipykernel)",
   "language": "python",
   "name": "python3"
  },
  "language_info": {
   "codemirror_mode": {
    "name": "ipython",
    "version": 3
   },
   "file_extension": ".py",
   "mimetype": "text/x-python",
   "name": "python",
   "nbconvert_exporter": "python",
   "pygments_lexer": "ipython3",
   "version": "3.8.6"
  }
 },
 "nbformat": 4,
 "nbformat_minor": 5
}
