{
 "cells": [
  {
   "cell_type": "code",
   "execution_count": null,
   "id": "7d9a0299",
   "metadata": {},
   "outputs": [],
   "source": [
    "import pandas as pd\n",
    "import numpy as np\n",
    "import sys\n",
    "\n",
    "\n",
    "class discretizador(object):\n",
    "    def __init__(self, db, vector_num_faixas, metodo, attr_cluster):\n",
    "        self.db = db\n",
    "        self.vector_num_faixas = [vector_num_faixas]*db.shape[1]\n",
    "        self.metodo = metodo \n",
    "        self.attr_cluster = attr_cluster\n",
    "        self.data, self.ddb, self.infor = self.discretize_db()\n",
    "\n",
    "    def discretize_db(self):\n",
    "        \n",
    "        cluster = self.db[self.attr_cluster]\n",
    "        data = self.db.drop([self.attr_cluster], axis=1) # Deleta a coluna classe\n",
    "        \n",
    "        try:\n",
    "            values = data.to_numpy(dtype =  np.float32)\n",
    "        except:\n",
    "            print(\"Há entradas na bases de dados com valores incorretos\")\n",
    "            input(\"Pressione ENTER para sair\")\n",
    "            sys.exit()\n",
    "        \n",
    "        ddb = []\n",
    "        infor = []\n",
    "    \n",
    "        for j in range(0, data.shape[1]):\n",
    "            if self.metodo is 'EWD':\n",
    "                disc_attb = pd.cut(values[:,j],self.vector_num_faixas[j], labels = False, retbins= True)\n",
    "            elif self.metodo is 'EFD':\n",
    "                disc_attb = pd.qcut(values[:,j], self.vector_num_faixas[j], labels = False, retbins = True, duplicates = 'drop')\n",
    "                \n",
    "            ddb.append(disc_attb[0])\n",
    "            infor.append((data.columns[j],disc_attb[1]))\n",
    "        \n",
    "        ddb = np.asarray(ddb, dtype = 'int32')\n",
    "        \n",
    "        for x in range (0, data.shape[1]):\n",
    "           data.loc[:,data.columns[x]] = [y[x] for y in ddb.T]\n",
    "        \n",
    "        data[self.attr_cluster] = cluster\n",
    "        \n",
    "        return ddb, data, infor"
   ]
  }
 ],
 "metadata": {
  "kernelspec": {
   "display_name": "Python 3 (ipykernel)",
   "language": "python",
   "name": "python3"
  },
  "language_info": {
   "codemirror_mode": {
    "name": "ipython",
    "version": 3
   },
   "file_extension": ".py",
   "mimetype": "text/x-python",
   "name": "python",
   "nbconvert_exporter": "python",
   "pygments_lexer": "ipython3",
   "version": "3.8.6"
  }
 },
 "nbformat": 4,
 "nbformat_minor": 5
}
