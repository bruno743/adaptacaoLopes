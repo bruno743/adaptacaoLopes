{
 "cells": [
  {
   "cell_type": "code",
   "execution_count": null,
   "id": "b6faa2e3",
   "metadata": {},
   "outputs": [],
   "source": [
    "import numpy as np\n",
    "from sklearn.neural_network import MLPClassifier as mlp\n",
    "from sklearn.tree import DecisionTreeClassifier as tree\n",
    "from sklearn.model_selection import train_test_split"
   ]
  },
  {
   "cell_type": "code",
   "execution_count": null,
   "id": "692dc9d5",
   "metadata": {},
   "outputs": [],
   "source": [
    "def alg_supervis(metodo, data, percnt, folds):\n",
    "    # vetor para calcular a relevância de cada atributo\n",
    "    acur = [0]*data.shape[1]\n",
    "    \n",
    "    for i in range(folds):\n",
    "        for j in range(data.shape[1]):\n",
    "            Y = data.loc[:,data.columns[j]].values\n",
    "            X = data.drop(data.columns[j], axis=1).values\n",
    "            x_train, x_test, y_train, y_test = train_test_split(X, Y, test_size=percnt)\n",
    "            \n",
    "            y_train=np.asarray(y_train, dtype=\"|S6\")\n",
    "            y_test=np.asarray(y_test, dtype=\"|S6\")\n",
    "            clf = metodo\n",
    "            \n",
    "            if x_train.size == 0:\n",
    "                acur[j] += 0\n",
    "            else: \n",
    "                clf.fit(x_train, y_train)\n",
    "                acur[j] += clf.score(x_test, y_test)\n",
    "                \n",
    "    # calculando média de acerto\n",
    "    acur = [(i/folds) for i in acur]\n",
    "    resultado = list(zip(data.columns, acur))\n",
    "    return resultado"
   ]
  },
  {
   "cell_type": "code",
   "execution_count": 1,
   "id": "90065f47",
   "metadata": {},
   "outputs": [],
   "source": [
    "def aciona_metodo(grupos, attr_classe, porc_trein, folds, super_alg):\n",
    "    result = []\n",
    "    for grupo in grupos:\n",
    "        data = grupo.drop([attr_classe], axis=1)\n",
    "        clt = grupo[attr_classe].unique()\n",
    "        if (super_alg == \"PMC\"):\n",
    "            f = alg_supervis(mlp(max_iter=2000), data, porc_trein, folds)\n",
    "        elif (super_alg == \"TREE\"):\n",
    "            f = alg_supervis(tree(max_depth=2000), data, porc_trein, folds)\n",
    "        result.append((clt, f))\n",
    "    return result"
   ]
  }
 ],
 "metadata": {
  "kernelspec": {
   "display_name": "Python 3 (ipykernel)",
   "language": "python",
   "name": "python3"
  },
  "language_info": {
   "codemirror_mode": {
    "name": "ipython",
    "version": 3
   },
   "file_extension": ".py",
   "mimetype": "text/x-python",
   "name": "python",
   "nbconvert_exporter": "python",
   "pygments_lexer": "ipython3",
   "version": "3.8.6"
  }
 },
 "nbformat": 4,
 "nbformat_minor": 5
}
